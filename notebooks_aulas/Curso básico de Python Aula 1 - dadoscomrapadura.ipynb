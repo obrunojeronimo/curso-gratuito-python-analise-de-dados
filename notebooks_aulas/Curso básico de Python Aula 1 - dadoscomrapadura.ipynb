{
 "cells": [
  {
   "cell_type": "markdown",
   "metadata": {
    "id": "3AfHLyvKrrHy"
   },
   "source": [
    "# Aula 1 - Curso básico de Python para análise de Dados"
   ]
  },
  {
   "cell_type": "markdown",
   "metadata": {},
   "source": [
    "### Primeiro passos.\n",
    "#### Vamos apresentar na tela a frase clássica de quem está começando na programação: Olá mundo, também conhecido como Hello World."
   ]
  },
  {
   "cell_type": "code",
   "execution_count": null,
   "metadata": {
    "colab": {
     "base_uri": "https://localhost:8080/"
    },
    "executionInfo": {
     "elapsed": 8,
     "status": "ok",
     "timestamp": 1748818776772,
     "user": {
      "displayName": "Bruno Jeronimo",
      "userId": "12444483675922275543"
     },
     "user_tz": 180
    },
    "id": "yaTr3xCesQiV",
    "outputId": "9ddff4b3-b82d-4a01-92b2-e2f2e8c00977"
   },
   "outputs": [
    {
     "name": "stdout",
     "output_type": "stream",
     "text": [
      "Olá, mundo\n"
     ]
    }
   ],
   "source": [
    "# Primeira forma: usando a função print para exibir uma mensagem na tela e utilizando aspas duplas com texto em português.\n",
    "print(\"Olá, mundo\")"
   ]
  },
  {
   "cell_type": "code",
   "execution_count": 3,
   "metadata": {
    "colab": {
     "base_uri": "https://localhost:8080/"
    },
    "executionInfo": {
     "elapsed": 7,
     "status": "ok",
     "timestamp": 1748818794400,
     "user": {
      "displayName": "Bruno Jeronimo",
      "userId": "12444483675922275543"
     },
     "user_tz": 180
    },
    "id": "IVMhSDziuOnh",
    "outputId": "468f3a6e-a7a3-4156-b4bb-b0d7c2204ccd"
   },
   "outputs": [
    {
     "name": "stdout",
     "output_type": "stream",
     "text": [
      "Hello, world\n"
     ]
    }
   ],
   "source": [
    "# Segunda forma: usando a função print para exibir uma mensagem na tela e utilizando aspas simples com texto em inglês.\n",
    "print('Hello, world')"
   ]
  },
  {
   "cell_type": "code",
   "execution_count": 5,
   "metadata": {},
   "outputs": [
    {
     "name": "stdout",
     "output_type": "stream",
     "text": [
      "Hola, mundo\n"
     ]
    }
   ],
   "source": [
    "# Terceira forma: usando a função print para exibir uma mensagem na tela e utilizando aspas triplas com texto em espanhol.\n",
    "print(\"\"\"Hola, mundo\"\"\")"
   ]
  },
  {
   "cell_type": "code",
   "execution_count": 7,
   "metadata": {},
   "outputs": [
    {
     "name": "stdout",
     "output_type": "stream",
     "text": [
      "Olá, mundo\n"
     ]
    }
   ],
   "source": [
    "# Quarta forma: atribuindo uma mensagem a uma variável e depois imprimindo essa variável.\n",
    "saudacao = \"Olá, mundo\"\n",
    "print(saudacao)"
   ]
  },
  {
   "cell_type": "markdown",
   "metadata": {},
   "source": [
    "-------------------------------------x-------------------------------------x-------------------------------------x-------------------------------------x-------------------------------------"
   ]
  },
  {
   "cell_type": "markdown",
   "metadata": {},
   "source": [
    "#### O que são variáveis?\n",
    " \n",
    "#### São espaços na memória do computador onde podemos armazenar informações temporárias, como textos, números ou outros tipos de dados. Por exemplo, a variável `saudacao` guarda o texto \"Olá, mundo\"."
   ]
  },
  {
   "cell_type": "code",
   "execution_count": 8,
   "metadata": {
    "colab": {
     "base_uri": "https://localhost:8080/"
    },
    "executionInfo": {
     "elapsed": 8,
     "status": "ok",
     "timestamp": 1748819082943,
     "user": {
      "displayName": "Bruno Jeronimo",
      "userId": "12444483675922275543"
     },
     "user_tz": 180
    },
    "id": "0_GNuZP2uixB",
    "outputId": "4c6cf165-d920-4ddb-f29e-df4428cd6880"
   },
   "outputs": [
    {
     "name": "stdout",
     "output_type": "stream",
     "text": [
      "boneco\n"
     ]
    }
   ],
   "source": [
    "# Nesse exemplo, criamos uma variável chamada 'caixa' e atribuímos a ela o valor \"boneco\". Em seguida, imprimimos o valor da variável.\n",
    "caixa = \"boneco\"\n",
    "print(caixa)"
   ]
  },
  {
   "cell_type": "code",
   "execution_count": 9,
   "metadata": {
    "colab": {
     "base_uri": "https://localhost:8080/"
    },
    "executionInfo": {
     "elapsed": 3,
     "status": "ok",
     "timestamp": 1748819176368,
     "user": {
      "displayName": "Bruno Jeronimo",
      "userId": "12444483675922275543"
     },
     "user_tz": 180
    },
    "id": "X2fo-QhevgP3",
    "outputId": "d3459c1b-e928-46fa-fc59-ae3f64d97713"
   },
   "outputs": [
    {
     "name": "stdout",
     "output_type": "stream",
     "text": [
      "Bruno 32\n"
     ]
    }
   ],
   "source": [
    "# Nesse outro exemplo, criamos duas variáveis: 'nome' que armazena uma string (texto) e 'idade' que armazena um número inteiro. Depois, imprimimos ambas as variáveis.\n",
    "\n",
    "nome = \"Bruno\"\n",
    "idade = 32\n",
    "\n",
    "print(nome, idade)"
   ]
  },
  {
   "cell_type": "code",
   "execution_count": 10,
   "metadata": {
    "colab": {
     "base_uri": "https://localhost:8080/"
    },
    "executionInfo": {
     "elapsed": 9,
     "status": "ok",
     "timestamp": 1748819458980,
     "user": {
      "displayName": "Bruno Jeronimo",
      "userId": "12444483675922275543"
     },
     "user_tz": 180
    },
    "id": "0Mh34CZfwgTk",
    "outputId": "48256c09-296d-477c-b261-7ba0960e47f3"
   },
   "outputs": [
    {
     "name": "stdout",
     "output_type": "stream",
     "text": [
      "Meu nome é Bruno e minha idade é 32 anos\n"
     ]
    }
   ],
   "source": [
    "# Agora, estamos usando uma f-string para formatar a saída de forma mais legível. As f-strings permitem incorporar expressões dentro de strings, facilitando a criação de mensagens dinâmicas.\n",
    "\n",
    "print(f'Meu nome é {nome} e minha idade é {idade} anos')"
   ]
  }
 ],
 "metadata": {
  "colab": {
   "authorship_tag": "ABX9TyM1UUuqndapWtqYoS0YH2qY",
   "provenance": []
  },
  "kernelspec": {
   "display_name": "base",
   "language": "python",
   "name": "python3"
  },
  "language_info": {
   "codemirror_mode": {
    "name": "ipython",
    "version": 3
   },
   "file_extension": ".py",
   "mimetype": "text/x-python",
   "name": "python",
   "nbconvert_exporter": "python",
   "pygments_lexer": "ipython3",
   "version": "3.12.7"
  }
 },
 "nbformat": 4,
 "nbformat_minor": 0
}
