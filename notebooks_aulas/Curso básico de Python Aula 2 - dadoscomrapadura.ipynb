{
 "cells": [
  {
   "cell_type": "markdown",
   "metadata": {
    "id": "Yg5ns6kiclhw"
   },
   "source": [
    "# Aula 2 - Curso básico de Python para análise de Dados"
   ]
  },
  {
   "cell_type": "markdown",
   "metadata": {},
   "source": [
    "### Variáveis e Operações com Python\n",
    "#### Nesta aula, vamos explorar os conceitos fundamentais de variáveis, tipos de dados e operações matemáticas em Python. Entender como manipular informações e realizar cálculos é essencial para qualquer análise de dados. Ao longo dos exemplos, você verá como declarar variáveis, utilizar diferentes tipos de dados e aplicar operações básicas para resolver problemas do dia a dia."
   ]
  },
  {
   "cell_type": "markdown",
   "metadata": {
    "id": "M2vPrAkyc0QG"
   },
   "source": [
    "### Variáveis\n",
    "#### Recapitulando: Variáveis são espaços na memória do computador onde podemos armazenar informações temporárias, como textos, números ou outros tipos de dados."
   ]
  },
  {
   "cell_type": "code",
   "execution_count": 1,
   "metadata": {
    "colab": {
     "base_uri": "https://localhost:8080/"
    },
    "executionInfo": {
     "elapsed": 8,
     "status": "ok",
     "timestamp": 1749402650298,
     "user": {
      "displayName": "Bruno Jeronimo",
      "userId": "12444483675922275543"
     },
     "user_tz": 180
    },
    "id": "xysdUekkc2ze",
    "outputId": "ba28a321-69c1-43b4-f8fa-e5c5804e20aa"
   },
   "outputs": [
    {
     "name": "stdout",
     "output_type": "stream",
     "text": [
      "Ana 25\n"
     ]
    }
   ],
   "source": [
    "# Nesses exemplo, declaramos duas variáveis e imprimimos seus valores.\n",
    "\n",
    "nome = \"Ana\"\n",
    "idade = 25\n",
    "\n",
    "print(nome, idade)"
   ]
  },
  {
   "cell_type": "markdown",
   "metadata": {
    "id": "Mjr_-R8vd8c3"
   },
   "source": [
    "### Tipos de dados\n",
    "#### Em Python, os tipos de dados mais comuns são: inteiros (`int`), números decimais (`float`), textos (`str`), booleanos (`bool`), listas (`list`), dicionários (`dict`), entre outros. Por exemplo, a variável `idade` é do tipo inteiro (`int`) e armazena o valor 32, enquanto a variável `nome` é do tipo texto (`str`) e armazena o valor \"Bruno\". Cada tipo de dado permite diferentes operações e é importante escolher o tipo adequado para cada informação que queremos manipular."
   ]
  },
  {
   "cell_type": "code",
   "execution_count": 2,
   "metadata": {
    "colab": {
     "base_uri": "https://localhost:8080/"
    },
    "executionInfo": {
     "elapsed": 9,
     "status": "ok",
     "timestamp": 1749402652221,
     "user": {
      "displayName": "Bruno Jeronimo",
      "userId": "12444483675922275543"
     },
     "user_tz": 180
    },
    "id": "VWDkrUpNeA87",
    "outputId": "444ad778-cf2e-4e06-fcdc-c8a07cc0e608"
   },
   "outputs": [
    {
     "name": "stdout",
     "output_type": "stream",
     "text": [
      "Bruno 32 1.71 1.5 True\n"
     ]
    }
   ],
   "source": [
    "# Neste exemplo, declaramos variáveis de diferentes tipos de dados e imprimimos seus valores.\n",
    "\n",
    "nome = \"Bruno\"\n",
    "idade = 32\n",
    "altura = 1.71\n",
    "saldo_bancario = 1.50\n",
    "possui_filhos = True\n",
    "\n",
    "print(nome, idade, altura, saldo_bancario, possui_filhos)"
   ]
  },
  {
   "cell_type": "markdown",
   "metadata": {
    "id": "5e7n1_J0fGeu"
   },
   "source": [
    "### Operações Matemáticas\n",
    "#### Operações matemáticas são fundamentais em Python e permitem realizar cálculos simples e avançados. Com operadores como soma (`+`), subtração (`-`), multiplicação (`*`), divisão (`/`), potência (`**`), divisão inteira (`//`) e resto da divisão (`%`), podemos manipular variáveis numéricas para resolver problemas do cotidiano. Por exemplo, podemos calcular a soma de valores, determinar o saldo bancário após uma transação, ou até mesmo calcular o IMC utilizando as variáveis `peso` e `altura`. Essas operações são essenciais para análises de dados e automação de tarefas."
   ]
  },
  {
   "cell_type": "code",
   "execution_count": 3,
   "metadata": {
    "executionInfo": {
     "elapsed": 2,
     "status": "ok",
     "timestamp": 1749402877752,
     "user": {
      "displayName": "Bruno Jeronimo",
      "userId": "12444483675922275543"
     },
     "user_tz": 180
    },
    "id": "HoYQtOn7hlWf"
   },
   "outputs": [],
   "source": [
    "# Neste exemplo, realizamos várias operações matemáticas com duas variáveis numéricas e imprimimos os resultados.\n",
    "\n",
    "a = 5\n",
    "b = 2"
   ]
  },
  {
   "cell_type": "code",
   "execution_count": 6,
   "metadata": {
    "colab": {
     "base_uri": "https://localhost:8080/"
    },
    "executionInfo": {
     "elapsed": 6,
     "status": "ok",
     "timestamp": 1749402880264,
     "user": {
      "displayName": "Bruno Jeronimo",
      "userId": "12444483675922275543"
     },
     "user_tz": 180
    },
    "id": "FEELBmyNhpMw",
    "outputId": "a7b5f5a0-4888-46b6-95d7-23bf6629e21c"
   },
   "outputs": [
    {
     "name": "stdout",
     "output_type": "stream",
     "text": [
      "7\n",
      "7\n"
     ]
    }
   ],
   "source": [
    "# Exemplo de soma\n",
    "\n",
    "soma = a + b\n",
    "print(soma) # Exemplo usando variável\n",
    "print(a+b) # Exemplo sem variável, usando os valores das variáveis diretamente."
   ]
  },
  {
   "cell_type": "code",
   "execution_count": 7,
   "metadata": {
    "colab": {
     "base_uri": "https://localhost:8080/"
    },
    "executionInfo": {
     "elapsed": 5,
     "status": "ok",
     "timestamp": 1749402884501,
     "user": {
      "displayName": "Bruno Jeronimo",
      "userId": "12444483675922275543"
     },
     "user_tz": 180
    },
    "id": "e9L6CzcDh5yR",
    "outputId": "20caae7c-d7d6-4347-9722-5390fc9b786e"
   },
   "outputs": [
    {
     "name": "stdout",
     "output_type": "stream",
     "text": [
      "3\n",
      "3\n"
     ]
    }
   ],
   "source": [
    "# Exemplo de subtração\n",
    "\n",
    "subtracao = a-b\n",
    "print(subtracao) # Exemplo usando variável\n",
    "print(a-b) # Exemplo sem variável, usando os valores das variáveis diretamente."
   ]
  },
  {
   "cell_type": "code",
   "execution_count": 8,
   "metadata": {
    "colab": {
     "base_uri": "https://localhost:8080/"
    },
    "executionInfo": {
     "elapsed": 8,
     "status": "ok",
     "timestamp": 1749402888673,
     "user": {
      "displayName": "Bruno Jeronimo",
      "userId": "12444483675922275543"
     },
     "user_tz": 180
    },
    "id": "56SlSdmbiHXD",
    "outputId": "0c975806-6e85-4705-d5fd-b33bcffe0a64"
   },
   "outputs": [
    {
     "name": "stdout",
     "output_type": "stream",
     "text": [
      "10\n",
      "10\n"
     ]
    }
   ],
   "source": [
    "# Exemplo de multiplicação\n",
    "\n",
    "multiplicar = a*b\n",
    "print(multiplicar) # Exemplo usando variável\n",
    "print(a*b) # Exemplo sem variável, usando os valores das variáveis diretamente."
   ]
  },
  {
   "cell_type": "code",
   "execution_count": 9,
   "metadata": {
    "colab": {
     "base_uri": "https://localhost:8080/"
    },
    "executionInfo": {
     "elapsed": 8,
     "status": "ok",
     "timestamp": 1749402939958,
     "user": {
      "displayName": "Bruno Jeronimo",
      "userId": "12444483675922275543"
     },
     "user_tz": 180
    },
    "id": "l5cQRxwOibz_",
    "outputId": "011f1c06-5839-4720-ae76-fdc3b2ad5932"
   },
   "outputs": [
    {
     "name": "stdout",
     "output_type": "stream",
     "text": [
      "2.5\n",
      "2.5\n"
     ]
    }
   ],
   "source": [
    "# Exemplo de divisão\n",
    "\n",
    "dividir= a / b\n",
    "print(dividir) # Exemplo usando variável\n",
    "print(a/b) # Exemplo sem variável, usando os valores das variáveis diretamente."
   ]
  },
  {
   "cell_type": "code",
   "execution_count": 10,
   "metadata": {
    "colab": {
     "base_uri": "https://localhost:8080/"
    },
    "executionInfo": {
     "elapsed": 8,
     "status": "ok",
     "timestamp": 1749403013516,
     "user": {
      "displayName": "Bruno Jeronimo",
      "userId": "12444483675922275543"
     },
     "user_tz": 180
    },
    "id": "q7x0_ozList5",
    "outputId": "11e7966b-9a7c-4ab9-d8a6-702384cd4e87"
   },
   "outputs": [
    {
     "name": "stdout",
     "output_type": "stream",
     "text": [
      "25\n",
      "25\n"
     ]
    }
   ],
   "source": [
    "# Exemplo de potência\n",
    "\n",
    "potencia = a ** b\n",
    "print(potencia) # Exemplo usando variável\n",
    "print(a ** b) # Exemplo sem variável, usando os valores das variáveis diretamente."
   ]
  },
  {
   "cell_type": "code",
   "execution_count": null,
   "metadata": {
    "colab": {
     "base_uri": "https://localhost:8080/"
    },
    "executionInfo": {
     "elapsed": 10,
     "status": "ok",
     "timestamp": 1749403151746,
     "user": {
      "displayName": "Bruno Jeronimo",
      "userId": "12444483675922275543"
     },
     "user_tz": 180
    },
    "id": "gQNX2-kWi53M",
    "outputId": "cb79fe72-015a-4f68-c13c-89d858597aa7"
   },
   "outputs": [
    {
     "name": "stdout",
     "output_type": "stream",
     "text": [
      "2\n",
      "2\n"
     ]
    }
   ],
   "source": [
    "# Exemplo de divisão inteira\n",
    "\n",
    "dividir_inteiro = a // b\n",
    "print(dividir_inteiro) # Exemplo usando variável\n",
    "print(a // b) # Exemplo sem variável, usando os valores das variáveis diretamente."
   ]
  },
  {
   "cell_type": "code",
   "execution_count": 11,
   "metadata": {
    "colab": {
     "base_uri": "https://localhost:8080/"
    },
    "executionInfo": {
     "elapsed": 9,
     "status": "ok",
     "timestamp": 1749403226229,
     "user": {
      "displayName": "Bruno Jeronimo",
      "userId": "12444483675922275543"
     },
     "user_tz": 180
    },
    "id": "pQKK5GABjdTA",
    "outputId": "77ed68d8-278e-4def-80a5-0c74845b2dc2"
   },
   "outputs": [
    {
     "name": "stdout",
     "output_type": "stream",
     "text": [
      "1\n",
      "1\n"
     ]
    }
   ],
   "source": [
    "# Exemplo de resto da divisão\n",
    "\n",
    "resto_divisao = a % b\n",
    "print(resto_divisao) # Exemplo usando variável\n",
    "print(a % b) # Exemplo sem variável, usando os valores das variáveis diretamente."
   ]
  },
  {
   "cell_type": "markdown",
   "metadata": {
    "id": "ndpcRC8SuPci"
   },
   "source": [
    "### Operações de Comparação\n",
    "#### Os operadores de comparação em Python permitem comparar valores e verificar relações entre eles. Os principais operadores são:\n",
    "\n",
    "- `==` (igual a): Verifica se dois valores são iguais.\n",
    "- `!=` (diferente de): Verifica se dois valores são diferentes.\n",
    "- `>` (maior que): Verifica se o valor à esquerda é maior que o valor à direita.\n",
    "- `<` (menor que): Verifica se o valor à esquerda é menor que o valor à direita.\n",
    "- `>=` (maior ou igual a): Verifica se o valor à esquerda é maior ou igual ao valor à direita.\n",
    "- `<=` (menor ou igual a): Verifica se o valor à esquerda é menor ou igual ao valor à direita.\n",
    "\n",
    "#### Esses operadores retornam valores booleanos (`True` ou `False`) e são muito utilizados em estruturas de decisão e filtros de dados."
   ]
  },
  {
   "cell_type": "code",
   "execution_count": null,
   "metadata": {
    "executionInfo": {
     "elapsed": 5,
     "status": "ok",
     "timestamp": 1749406503075,
     "user": {
      "displayName": "Bruno Jeronimo",
      "userId": "12444483675922275543"
     },
     "user_tz": 180
    },
    "id": "Bc0_OOW2ub_x"
   },
   "outputs": [],
   "source": [
    "# Vamos usar essa variável mais adiante para exemplificar as operações de comparação\n",
    "idade = 17"
   ]
  },
  {
   "cell_type": "code",
   "execution_count": 13,
   "metadata": {
    "colab": {
     "base_uri": "https://localhost:8080/"
    },
    "executionInfo": {
     "elapsed": 9,
     "status": "ok",
     "timestamp": 1749406591729,
     "user": {
      "displayName": "Bruno Jeronimo",
      "userId": "12444483675922275543"
     },
     "user_tz": 180
    },
    "id": "_LQ5TodQv-9m",
    "outputId": "39023067-3501-44b4-889e-aa98f0af318d"
   },
   "outputs": [
    {
     "name": "stdout",
     "output_type": "stream",
     "text": [
      "False\n",
      "True\n",
      "False\n",
      "True\n",
      "False\n",
      "True\n"
     ]
    }
   ],
   "source": [
    "# Exemplo de comparações\n",
    "print(idade == 18) # Exemplo de igualdade\n",
    "print(idade != 18) # Exemplo de desigualdade\n",
    "print(idade > 18)  # Exemplo de maior que\n",
    "print(idade < 18)  # Exemplo de menor que\n",
    "print(idade >= 18) # Exemplo de maior ou igual a\n",
    "print(idade <= 18) # Exemplo de menor ou igual a"
   ]
  },
  {
   "cell_type": "markdown",
   "metadata": {
    "id": "kpf9DdkowxnF"
   },
   "source": [
    "### Operações lógicas\n",
    "#### As operações lógicas em Python permitem combinar ou inverter condições, sendo essenciais para tomadas de decisão em programas. Os principais operadores lógicos são:\n",
    "\n",
    "- **AND** (`and`): Retorna `True` apenas se todas as condições forem verdadeiras. Exemplo: `estudar and praticar` só será `True` se ambas as variáveis forem verdadeiras.\n",
    "- **OR** (`or`): Retorna `True` se pelo menos uma das condições for verdadeira. Exemplo: `usa_googlecolab or usa_vscode` será `True` se pelo menos uma das opções for verdadeira.\n",
    "- **NOT** (`not`): Inverte o valor lógico da condição. Exemplo: `not possui_computador` retorna `False` se `possui_computador` for `True`.\n"
   ]
  },
  {
   "cell_type": "code",
   "execution_count": 14,
   "metadata": {
    "colab": {
     "base_uri": "https://localhost:8080/"
    },
    "executionInfo": {
     "elapsed": 9,
     "status": "ok",
     "timestamp": 1749408427006,
     "user": {
      "displayName": "Bruno Jeronimo",
      "userId": "12444483675922275543"
     },
     "user_tz": 180
    },
    "id": "-qXzFgnJ3ZrO",
    "outputId": "f04b1c9b-edd0-4c6d-a6b7-f7c6ce1941de"
   },
   "outputs": [
    {
     "name": "stdout",
     "output_type": "stream",
     "text": [
      "False\n",
      "False\n"
     ]
    }
   ],
   "source": [
    "# Exemplo usando operador lógico AND\n",
    "\n",
    "estudar = True\n",
    "praticar = False\n",
    "\n",
    "print(estudar and praticar) # Exemplo usando variável\n",
    "print(True and False) # Exemplo sem variável, usando os valores das variáveis diretamente."
   ]
  },
  {
   "cell_type": "code",
   "execution_count": 15,
   "metadata": {
    "colab": {
     "base_uri": "https://localhost:8080/"
    },
    "executionInfo": {
     "elapsed": 9,
     "status": "ok",
     "timestamp": 1749408505281,
     "user": {
      "displayName": "Bruno Jeronimo",
      "userId": "12444483675922275543"
     },
     "user_tz": 180
    },
    "id": "ka5qKGad3rzc",
    "outputId": "80056271-8a6c-4473-8be1-8f9dc4c5e2ff"
   },
   "outputs": [
    {
     "name": "stdout",
     "output_type": "stream",
     "text": [
      "True\n",
      "True\n"
     ]
    }
   ],
   "source": [
    "# Exemplo usando operador lógico OR\n",
    "\n",
    "usa_googlecolab = True\n",
    "usa_vscode = False\n",
    "\n",
    "print(usa_googlecolab or usa_vscode) # Exemplo usando variável\n",
    "print(True or False) # Exemplo sem variável, usando os valores das variáveis diretamente."
   ]
  },
  {
   "cell_type": "code",
   "execution_count": 16,
   "metadata": {
    "colab": {
     "base_uri": "https://localhost:8080/"
    },
    "executionInfo": {
     "elapsed": 9,
     "status": "ok",
     "timestamp": 1749408578221,
     "user": {
      "displayName": "Bruno Jeronimo",
      "userId": "12444483675922275543"
     },
     "user_tz": 180
    },
    "id": "qE0Fxfcp39sy",
    "outputId": "851871de-18a0-47f7-9264-4cf65d6890f6"
   },
   "outputs": [
    {
     "name": "stdout",
     "output_type": "stream",
     "text": [
      "False\n",
      "False\n"
     ]
    }
   ],
   "source": [
    "# Exemplo usando operador lógico NOT\n",
    "\n",
    "possui_computador = True\n",
    "print(not possui_computador) # Exemplo usando variável\n",
    "print(not True) # Exemplo sem variável, usando os valores das variáveis diretamente."
   ]
  },
  {
   "cell_type": "markdown",
   "metadata": {
    "id": "Q00SgDj34lMT"
   },
   "source": [
    "## Exercício aula 2\n",
    "### Cálculo IMC\n",
    "#### O exercício de cálculo do IMC (Índice de Massa Corporal) consiste em utilizar as variáveis `peso` e `altura` para calcular o IMC de uma pessoa. O IMC é uma medida utilizada para avaliar se o peso está adequado em relação à altura, sendo calculado pela fórmula:\n",
    "\n",
    "- IMC = peso / (altura ** 2)\n",
    "\n",
    "##### No exemplo, você deve declarar as variáveis com seus respectivos valores, realizar o cálculo e imprimir o resultado. Esse exercício é importante para praticar a declaração de variáveis, operações matemáticas e a interpretação dos resultados em situações do cotidiano.\n",
    "\n",
    "#### A tabela de classificação do IMC segundo a Organização Mundial da Saúde (OMS) é:\n",
    "\n",
    "| Faixa de IMC         | Classificação         |\n",
    "|----------------------|----------------------|\n",
    "| Menor que 18,5       | Abaixo do peso       |\n",
    "| 18,5 a 24,9          | Peso normal          |\n",
    "| 25,0 a 29,9          | Sobrepeso            |\n",
    "| 30,0 a 34,9          | Obesidade grau I     |\n",
    "| 35,0 a 39,9          | Obesidade grau II    |\n",
    "| 40,0 ou mais         | Obesidade grau III   |"
   ]
  },
  {
   "cell_type": "code",
   "execution_count": null,
   "metadata": {
    "colab": {
     "base_uri": "https://localhost:8080/"
    },
    "executionInfo": {
     "elapsed": 7,
     "status": "ok",
     "timestamp": 1749408777061,
     "user": {
      "displayName": "Bruno Jeronimo",
      "userId": "12444483675922275543"
     },
     "user_tz": 180
    },
    "id": "zqLdWSfC4rkQ",
    "outputId": "60152940-55db-40f8-9766-ee2f349c6e00"
   },
   "outputs": [
    {
     "name": "stdout",
     "output_type": "stream",
     "text": [
      "27.01685988851271\n"
     ]
    }
   ],
   "source": [
    "# Exemplo de cálculo do IMC (Índice de Massa Corporal) usando variáveis com base nos meus dados pessoais.\n",
    "\n",
    "peso = 79\n",
    "altura = 1.71\n",
    "imc = peso / (altura**2) # Cálculo do IMC usando a fórmula IMC = peso / (altura ** 2), mostrando o uso de variáveis e operações matemáticas.\n",
    "print(imc) "
   ]
  }
 ],
 "metadata": {
  "colab": {
   "authorship_tag": "ABX9TyPEklmxyd76g/oSvzrbam7I",
   "provenance": []
  },
  "kernelspec": {
   "display_name": "base",
   "language": "python",
   "name": "python3"
  },
  "language_info": {
   "codemirror_mode": {
    "name": "ipython",
    "version": 3
   },
   "file_extension": ".py",
   "mimetype": "text/x-python",
   "name": "python",
   "nbconvert_exporter": "python",
   "pygments_lexer": "ipython3",
   "version": "3.12.7"
  }
 },
 "nbformat": 4,
 "nbformat_minor": 0
}
